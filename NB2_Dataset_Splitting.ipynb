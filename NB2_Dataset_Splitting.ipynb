{
 "cells": [
  {
   "cell_type": "code",
   "execution_count": 1,
   "metadata": {},
   "outputs": [],
   "source": [
    "import os\n",
    "import pandas as pd\n",
    "from sklearn.model_selection import train_test_split"
   ]
  },
  {
   "cell_type": "code",
   "execution_count": 2,
   "metadata": {},
   "outputs": [],
   "source": [
    "df = pd.read_csv(\"preprocessed_posts.csv\")"
   ]
  },
  {
   "cell_type": "markdown",
   "metadata": {},
   "source": [
    "Create train/val/test dataframes"
   ]
  },
  {
   "cell_type": "code",
   "execution_count": 3,
   "metadata": {},
   "outputs": [],
   "source": [
    "train_files = [x.replace(\".txt\", \"\") for x in os.listdir(\"./sampled_train\")]\n",
    "test_files = [x.replace(\".txt\", \"\") for x in os.listdir(\"./sampled_test\")]"
   ]
  },
  {
   "cell_type": "code",
   "execution_count": 4,
   "metadata": {},
   "outputs": [],
   "source": [
    "train_val_df = df[df[\"file_id\"].isin(train_files)]\n",
    "test_df = df[df[\"file_id\"].isin(test_files)]"
   ]
  },
  {
   "cell_type": "code",
   "execution_count": 5,
   "metadata": {},
   "outputs": [],
   "source": [
    "train_ids, val_ids = train_test_split(train_val_df.index.tolist(), \n",
    "                                      shuffle=True,\n",
    "                                      stratify=train_val_df.num_label.tolist(),\n",
    "                                      test_size=0.2)"
   ]
  },
  {
   "cell_type": "code",
   "execution_count": 6,
   "metadata": {},
   "outputs": [],
   "source": [
    "train_df = train_val_df.loc[train_ids]\n",
    "val_df = train_val_df.loc[val_ids]"
   ]
  },
  {
   "cell_type": "code",
   "execution_count": 7,
   "metadata": {},
   "outputs": [
    {
     "name": "stdout",
     "output_type": "stream",
     "text": [
      "Train df percentages\n",
      "num_label\n",
      "0    0.499673\n",
      "1    0.500327\n",
      "Name: file_id, dtype: float64\n",
      "\n",
      "Test df percentages\n",
      "num_label\n",
      "0    0.5\n",
      "1    0.5\n",
      "Name: file_id, dtype: float64\n"
     ]
    }
   ],
   "source": [
    "print(\"Train df percentages\")\n",
    "print(train_df.groupby(\"num_label\")[\"file_id\"].count()/len(train_df.index))\n",
    "print()\n",
    "print(\"Test df percentages\")\n",
    "print(test_df.groupby(\"num_label\")[\"file_id\"].count()/len(test_df.index))"
   ]
  },
  {
   "cell_type": "markdown",
   "metadata": {},
   "source": [
    "## Notice that the \"stratify\" arg in the train test split thing balanced the classes, but in doing so removed most of the posts.  \n",
    "- The classes are now balanced but we don't have that much data to work with"
   ]
  },
  {
   "cell_type": "code",
   "execution_count": 8,
   "metadata": {},
   "outputs": [
    {
     "name": "stdout",
     "output_type": "stream",
     "text": [
      "10944\n",
      "1914\n",
      "957\n",
      "957\n"
     ]
    }
   ],
   "source": [
    "print(len(df.index))\n",
    "print(len(train_val_df.index))\n",
    "print(len(train_val_df[train_val_df[\"num_label\"] == 1][\"file_id\"].unique()))\n",
    "print(len(train_val_df[train_val_df[\"num_label\"] == 0][\"file_id\"].unique()))"
   ]
  },
  {
   "cell_type": "code",
   "execution_count": 9,
   "metadata": {},
   "outputs": [],
   "source": [
    "train_df.to_csv(\"train_df.csv\", index=False)\n",
    "val_df.to_csv(\"val_df.csv\", index=False)\n",
    "test_df.to_csv(\"test_df.csv\", index=False)"
   ]
  },
  {
   "cell_type": "code",
   "execution_count": null,
   "metadata": {},
   "outputs": [],
   "source": []
  }
 ],
 "metadata": {
  "kernelspec": {
   "display_name": "Python 3",
   "language": "python",
   "name": "python3"
  },
  "language_info": {
   "codemirror_mode": {
    "name": "ipython",
    "version": 3
   },
   "file_extension": ".py",
   "mimetype": "text/x-python",
   "name": "python",
   "nbconvert_exporter": "python",
   "pygments_lexer": "ipython3",
   "version": "3.6.9"
  }
 },
 "nbformat": 4,
 "nbformat_minor": 4
}
